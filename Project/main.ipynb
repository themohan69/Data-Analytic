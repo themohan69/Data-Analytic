{
 "cells": [
  {
   "cell_type": "code",
   "execution_count": 1,
   "metadata": {},
   "outputs": [],
   "source": [
    "import pandas as pd\n",
    "import numpy as np"
   ]
  },
  {
   "cell_type": "code",
   "execution_count": 2,
   "metadata": {},
   "outputs": [
    {
     "data": {
      "text/html": [
       "<div>\n",
       "<style scoped>\n",
       "    .dataframe tbody tr th:only-of-type {\n",
       "        vertical-align: middle;\n",
       "    }\n",
       "\n",
       "    .dataframe tbody tr th {\n",
       "        vertical-align: top;\n",
       "    }\n",
       "\n",
       "    .dataframe thead th {\n",
       "        text-align: right;\n",
       "    }\n",
       "</style>\n",
       "<table border=\"1\" class=\"dataframe\">\n",
       "  <thead>\n",
       "    <tr style=\"text-align: right;\">\n",
       "      <th></th>\n",
       "      <th>Flight_ID</th>\n",
       "      <th>Airline</th>\n",
       "      <th>Departure_Airport</th>\n",
       "      <th>Arrival_Airport</th>\n",
       "      <th>Departure_Time</th>\n",
       "      <th>Arrival_Time</th>\n",
       "      <th>Delay</th>\n",
       "    </tr>\n",
       "  </thead>\n",
       "  <tbody>\n",
       "    <tr>\n",
       "      <th>0</th>\n",
       "      <td>FL0001</td>\n",
       "      <td>Airline C</td>\n",
       "      <td>ATL</td>\n",
       "      <td>SFO</td>\n",
       "      <td>2025-01-01 08:00:00</td>\n",
       "      <td>2025-01-01 12:00:00</td>\n",
       "      <td>115</td>\n",
       "    </tr>\n",
       "    <tr>\n",
       "      <th>1</th>\n",
       "      <td>FL0002</td>\n",
       "      <td>Airline B</td>\n",
       "      <td>ATL</td>\n",
       "      <td>SEA</td>\n",
       "      <td>2025-01-01 09:00:00</td>\n",
       "      <td>2025-01-01 13:00:00</td>\n",
       "      <td>157</td>\n",
       "    </tr>\n",
       "    <tr>\n",
       "      <th>2</th>\n",
       "      <td>FL0003</td>\n",
       "      <td>Airline B</td>\n",
       "      <td>LAX</td>\n",
       "      <td>BOS</td>\n",
       "      <td>2025-01-01 10:00:00</td>\n",
       "      <td>2025-01-01 14:00:00</td>\n",
       "      <td>39</td>\n",
       "    </tr>\n",
       "    <tr>\n",
       "      <th>3</th>\n",
       "      <td>FL0004</td>\n",
       "      <td>Airline C</td>\n",
       "      <td>ORD</td>\n",
       "      <td>DEN</td>\n",
       "      <td>2025-01-01 11:00:00</td>\n",
       "      <td>2025-01-01 15:00:00</td>\n",
       "      <td>168</td>\n",
       "    </tr>\n",
       "    <tr>\n",
       "      <th>4</th>\n",
       "      <td>FL0005</td>\n",
       "      <td>Airline D</td>\n",
       "      <td>ORD</td>\n",
       "      <td>BOS</td>\n",
       "      <td>2025-01-01 12:00:00</td>\n",
       "      <td>2025-01-01 16:00:00</td>\n",
       "      <td>87</td>\n",
       "    </tr>\n",
       "  </tbody>\n",
       "</table>\n",
       "</div>"
      ],
      "text/plain": [
       "  Flight_ID    Airline Departure_Airport Arrival_Airport      Departure_Time  \\\n",
       "0    FL0001  Airline C               ATL             SFO 2025-01-01 08:00:00   \n",
       "1    FL0002  Airline B               ATL             SEA 2025-01-01 09:00:00   \n",
       "2    FL0003  Airline B               LAX             BOS 2025-01-01 10:00:00   \n",
       "3    FL0004  Airline C               ORD             DEN 2025-01-01 11:00:00   \n",
       "4    FL0005  Airline D               ORD             BOS 2025-01-01 12:00:00   \n",
       "\n",
       "         Arrival_Time  Delay  \n",
       "0 2025-01-01 12:00:00    115  \n",
       "1 2025-01-01 13:00:00    157  \n",
       "2 2025-01-01 14:00:00     39  \n",
       "3 2025-01-01 15:00:00    168  \n",
       "4 2025-01-01 16:00:00     87  "
      ]
     },
     "execution_count": 2,
     "metadata": {},
     "output_type": "execute_result"
    }
   ],
   "source": [
    "import numpy as np\n",
    "import pandas as pd\n",
    "\n",
    "data = {\n",
    "    \"Flight_ID\": [f\"FL{str(i).zfill(4)}\" for i in range(1, 101)],\n",
    "    \"Airline\": np.random.choice(\n",
    "        [\"Airline A\", \"Airline B\", \"Airline C\", \"Airline D\"], size=100\n",
    "    ),\n",
    "    \"Departure_Airport\": np.random.choice(\n",
    "        [\"JFK\", \"LAX\", \"ORD\", \"ATL\", \"DFW\"], size=100\n",
    "    ),\n",
    "    \"Arrival_Airport\": np.random.choice(\n",
    "        [\"SFO\", \"SEA\", \"MIA\", \"BOS\", \"DEN\"], size=100\n",
    "    ),\n",
    "    \"Departure_Time\": pd.date_range(\n",
    "        \"2025-01-01 08:00:00\", periods=100, freq=\"h\"\n",
    "    ),\n",
    "    \"Arrival_Time\": pd.date_range(\n",
    "        \"2025-01-01 12:00:00\", periods=100, freq=\"h\"\n",
    "    ),\n",
    "    \"Delay\": np.random.randint(-30, 180, size=100),\n",
    "}\n",
    "\n",
    "df = pd.DataFrame(data)\n",
    "\n",
    "# Display first few rows of the DataFrame\n",
    "df.head()\n"
   ]
  },
  {
   "cell_type": "code",
   "execution_count": 3,
   "metadata": {},
   "outputs": [
    {
     "data": {
      "text/plain": [
       "Flight_ID            0\n",
       "Airline              0\n",
       "Departure_Airport    0\n",
       "Arrival_Airport      0\n",
       "Departure_Time       0\n",
       "Arrival_Time         0\n",
       "Delay                0\n",
       "dtype: int64"
      ]
     },
     "execution_count": 3,
     "metadata": {},
     "output_type": "execute_result"
    }
   ],
   "source": [
    "df.isnull().sum()"
   ]
  },
  {
   "cell_type": "code",
   "execution_count": 4,
   "metadata": {},
   "outputs": [
    {
     "name": "stdout",
     "output_type": "stream",
     "text": [
      "Average Delay Airline: \n",
      "Airline\n",
      "Airline A    71.125000\n",
      "Airline B    93.281250\n",
      "Airline C    61.086957\n",
      "Airline D    74.619048\n",
      "Name: Delay, dtype: float64\n"
     ]
    }
   ],
   "source": [
    "df[\"Delay\"] = df[\"Delay\"].apply(lambda x : max(0, x))\n",
    "average_delay_airline = df.groupby(\"Airline\")[\"Delay\"].mean()\n",
    "print(\"Average Delay Airline: \")\n",
    "print(average_delay_airline)"
   ]
  },
  {
   "cell_type": "code",
   "execution_count": 5,
   "metadata": {},
   "outputs": [
    {
     "name": "stdout",
     "output_type": "stream",
     "text": [
      "Departure_Airport\n",
      "ATL    68.136364\n",
      "DFW    61.200000\n",
      "JFK    69.769231\n",
      "LAX    78.892857\n",
      "ORD    96.863636\n",
      "Name: Delay, dtype: float64\n"
     ]
    }
   ],
   "source": [
    "average_delay_airport = df.groupby(\"Departure_Airport\")[\"Delay\"].mean()\n",
    "print(average_delay_airport)"
   ]
  },
  {
   "cell_type": "code",
   "execution_count": 6,
   "metadata": {},
   "outputs": [
    {
     "name": "stdout",
     "output_type": "stream",
     "text": [
      "Airline\n",
      "Airline A    71.125000\n",
      "Airline B    93.281250\n",
      "Airline C    61.086957\n",
      "Airline D    74.619048\n",
      "Name: Delay, dtype: float64\n",
      "\n",
      "Airline with least delay: Airline C (61.09 mins)\n",
      "\n",
      "Airline with most delay: Airline B (93.28 mins)\n"
     ]
    },
    {
     "data": {
      "text/plain": [
       "np.float64(76.64)"
      ]
     },
     "execution_count": 6,
     "metadata": {},
     "output_type": "execute_result"
    }
   ],
   "source": [
    "print(average_delay_airline)\n",
    "least_delay_airline = average_delay_airline.idxmin()\n",
    "\n",
    "most_delay_airline = average_delay_airline.idxmax()\n",
    "\n",
    "print(f\"\\nAirline with least delay: {least_delay_airline} ({average_delay_airline[least_delay_airline]:.2f} mins)\")\n",
    "print(f\"\\nAirline with most delay: {most_delay_airline} ({average_delay_airline[most_delay_airline]:.2f} mins)\")\n",
    "mean_delay = np.mean(df[\"Delay\"])\n",
    "mean_delay"
   ]
  },
  {
   "cell_type": "code",
   "execution_count": 7,
   "metadata": {},
   "outputs": [],
   "source": [
    "medin_delay = np.median(df[\"Delay\"])\n",
    "\n",
    "std_dev_delay = np.std(df[\"Delay\"])\n",
    "\n",
    "percentile_90 = np.percentile(df[\"Delay\"], 90)"
   ]
  },
  {
   "cell_type": "code",
   "execution_count": 8,
   "metadata": {},
   "outputs": [
    {
     "name": "stdout",
     "output_type": "stream",
     "text": [
      "Mean Delay 76.64\n",
      "Median Delay: 66.5\n",
      "Standard Delay: 57.7351747204423\n",
      "90th Percentile: 157.0\n"
     ]
    }
   ],
   "source": [
    "print(f\"Mean Delay {mean_delay}\")\n",
    "print(f\"Median Delay: {medin_delay}\")\n",
    "print(f\"Standard Delay: {std_dev_delay}\")\n",
    "print(f\"90th Percentile: {percentile_90}\")"
   ]
  },
  {
   "cell_type": "code",
   "execution_count": null,
   "metadata": {},
   "outputs": [],
   "source": []
  }
 ],
 "metadata": {
  "kernelspec": {
   "display_name": "Python 3",
   "language": "python",
   "name": "python3"
  },
  "language_info": {
   "codemirror_mode": {
    "name": "ipython",
    "version": 3
   },
   "file_extension": ".py",
   "mimetype": "text/x-python",
   "name": "python",
   "nbconvert_exporter": "python",
   "pygments_lexer": "ipython3",
   "version": "3.13.1"
  }
 },
 "nbformat": 4,
 "nbformat_minor": 2
}
